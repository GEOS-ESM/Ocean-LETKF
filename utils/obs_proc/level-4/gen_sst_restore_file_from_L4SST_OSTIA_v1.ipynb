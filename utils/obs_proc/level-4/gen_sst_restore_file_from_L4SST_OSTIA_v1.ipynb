{
 "cells": [
  {
   "cell_type": "code",
   "execution_count": null,
   "id": "44ec6375",
   "metadata": {},
   "outputs": [],
   "source": [
    "# modify the configuration files for regridder & filler\n",
    "! cat config/cfg_fill_sst_ostia_v1_daily.yaml"
   ]
  },
  {
   "cell_type": "code",
   "execution_count": null,
   "id": "9f344284",
   "metadata": {},
   "outputs": [],
   "source": [
    "# generate regrider wts\n",
    "! pwd\n",
    "! time PYTHONPATH=../../pycommon  ./gen_regridder_ostia_to_mom.py config/config.fill_sst_ostia_v1_daily.yaml"
   ]
  },
  {
   "cell_type": "code",
   "execution_count": null,
   "id": "0f8c9151",
   "metadata": {},
   "outputs": [],
   "source": [
    "# generate daily restore file\n",
    "#! time PYTHONPATH=../../pycommon ./fill_sst_ostia_v1_daily.py \\\n",
    "#        --remapped_file_path TEST_DATA/remapped_l4_sst/NEW_sst_remapped_20150101.nc \\\n",
    "#        --sst_file_path TEST_DATA/OSTIA_jan2015/20150101-UKMO-L4HRfnd-GLOB-v01-fv02-OSTIA.nc \\\n",
    "#        --config_path config/config.fill_sst_ostia_v1_daily.yaml \\\n",
    "#        --restore_template_path  fix/T_restore_file.yaml         "
   ]
  },
  {
   "cell_type": "code",
   "execution_count": null,
   "id": "317356bf",
   "metadata": {},
   "outputs": [],
   "source": [
    "# generate daily SST restore file in parallel \n",
    "#!cat fill_sst_batch.bsh\n",
    "!bash fill_sst_batch.bsh"
   ]
  },
  {
   "cell_type": "code",
   "execution_count": null,
   "id": "bb184f9b",
   "metadata": {},
   "outputs": [],
   "source": [
    "# aggregate daily restore files together (using nco operator)\n",
    "ncrcat -h TEST_DATA/remapped_l4_sst/NEW_sst_remapped_201501*.nc filled_remapped_cda_OSTIA_SST_v2.nc "
   ]
  }
 ],
 "metadata": {
  "kernelspec": {
   "display_name": "Python 3 (ipykernel)",
   "language": "python",
   "name": "python3"
  },
  "language_info": {
   "codemirror_mode": {
    "name": "ipython",
    "version": 3
   },
   "file_extension": ".py",
   "mimetype": "text/x-python",
   "name": "python",
   "nbconvert_exporter": "python",
   "pygments_lexer": "ipython3",
   "version": "3.9.15"
  }
 },
 "nbformat": 4,
 "nbformat_minor": 5
}
