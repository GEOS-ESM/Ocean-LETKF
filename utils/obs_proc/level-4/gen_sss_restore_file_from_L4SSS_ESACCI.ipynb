{
 "cells": [
  {
   "cell_type": "code",
   "execution_count": null,
   "id": "7b2d4589",
   "metadata": {},
   "outputs": [],
   "source": [
    "# download ESACCI L4 SSS \n",
    "#! PYTHONPATH=../../pycommon ./get_l4_sss_esacci.py \\\n",
    "#         --start_date 20180101 --end_date 20191231 \\\n",
    "#         --log "
   ]
  },
  {
   "cell_type": "code",
   "execution_count": null,
   "id": "3c4874b4",
   "metadata": {},
   "outputs": [],
   "source": [
    "# Updated configurations under namelist \"regrid\": L4 -> WOA18\n",
    "! cat config/config.merge_sal_esacci_woa18.yaml"
   ]
  },
  {
   "cell_type": "code",
   "execution_count": null,
   "id": "b99196ca",
   "metadata": {},
   "outputs": [],
   "source": [
    "# generate interpolating weights: L4 -> WOA18\n",
    "! time PYTHONPATH=../../pycommon ./gen_regridder_esacci_to_woa18.py config/config.merge_sal_esacci_woa18.yaml"
   ]
  },
  {
   "cell_type": "code",
   "execution_count": null,
   "id": "f91f2513",
   "metadata": {},
   "outputs": [],
   "source": [
    "# Updated configurations under namelist \"regrid\": WOA18 -> MOM \n",
    "! cat config/config.merge_sal_esacci_woa18.yaml"
   ]
  },
  {
   "cell_type": "code",
   "execution_count": null,
   "id": "9795c8bb",
   "metadata": {},
   "outputs": [],
   "source": [
    "# generate interpolating weights: WOA18 -> MOM \n",
    "! time PYTHONPATH=../../pycommon ../woa/gen_regridder_woa18_to_mom.py config/config.merge_sal_esacci_woa18.yaml"
   ]
  },
  {
   "cell_type": "code",
   "execution_count": null,
   "id": "fd70e405",
   "metadata": {},
   "outputs": [],
   "source": [
    "# generate 12-month salinity files from WOA18\n",
    "! PYTHONPATH=../../pycommon ../woa/fill_sss_woa18_12months_daily.py ../../test_data/woa18 \\\n",
    " --file_name_template \"woa18_decav_s{:02d}_04.nc\" \\\n",
    " --start_month 1 --end_month 12 \\\n",
    " --depth 10 \\\n",
    " --woa_var s_an \\\n",
    " --woa_var_renamed SALT "
   ]
  },
  {
   "cell_type": "code",
   "execution_count": null,
   "id": "9bf53486",
   "metadata": {
    "scrolled": true
   },
   "outputs": [],
   "source": [
    "# create daily merged L4&WOA SSS on WOA18 grids\n",
    "\n",
    "! time PYTHONPATH=../../pycommon ./merge_sal_esacci_woa18_daily.py \\\n",
    "        --config_path config/config.merge_sal_esacci_woa18.yaml \\\n",
    "        --woa18_filled_path ../woa/sss_woa18_10m/filled_sss_s01_e12.nc \\\n",
    "        --l4_sss_path TEST_DATA/l4_sss_esacci/2019/201904/20190430/ESACCI-SEASURFACESALINITY-L4-SSS-MERGED_OI_7DAY_RUNNINGMEAN_DAILY_25km-20190430-fv3.21.nc \\\n",
    "        --radius 10 \\\n",
    "        --output_file_path NEW_test_l4_1day.nc "
   ]
  },
  {
   "cell_type": "code",
   "execution_count": null,
   "id": "74a23981",
   "metadata": {},
   "outputs": [],
   "source": [
    "# generate daily SSS restore file in paralell\n",
    "\n",
    "#!cat create_Srestore_batch.bsh\n",
    "!bash create_Srestore_batch.bsh"
   ]
  },
  {
   "cell_type": "code",
   "execution_count": 23,
   "id": "a4d1ec1e",
   "metadata": {},
   "outputs": [],
   "source": [
    "!ncrcat -h TEST_DATA/remapped_l4_sss_v2/NEW2_sss_remapped_201501*.nc filled_remapped_cda_ESACCI_SSS_v2.nc"
   ]
  }
 ],
 "metadata": {
  "kernelspec": {
   "display_name": "Python 3 (ipykernel)",
   "language": "python",
   "name": "python3"
  },
  "language_info": {
   "codemirror_mode": {
    "name": "ipython",
    "version": 3
   },
   "file_extension": ".py",
   "mimetype": "text/x-python",
   "name": "python",
   "nbconvert_exporter": "python",
   "pygments_lexer": "ipython3",
   "version": "3.9.15"
  }
 },
 "nbformat": 4,
 "nbformat_minor": 5
}
