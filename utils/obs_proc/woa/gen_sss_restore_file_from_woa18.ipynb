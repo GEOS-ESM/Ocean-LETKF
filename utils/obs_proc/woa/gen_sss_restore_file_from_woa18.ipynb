{
 "cells": [
  {
   "cell_type": "code",
   "execution_count": null,
   "id": "1fe0ded3",
   "metadata": {},
   "outputs": [],
   "source": [
    "## download monthly WOA18 0.25 deg salinity files\n",
    "\n",
    "#! PYTHONPATH=../../pycommon ./get_monthly_woa18.py woa_test \\\n",
    "#--start_month 1 --end_month 12 \\\n",
    "#--res 0.25 \\\n",
    "#--dvar salinity "
   ]
  },
  {
   "cell_type": "code",
   "execution_count": null,
   "id": "19abfdf1",
   "metadata": {},
   "outputs": [],
   "source": [
    "# Updated configurations under namelist \"regrid\" for xemsf wts generation\n",
    "! cat config/config.fill_woa18.yaml"
   ]
  },
  {
   "cell_type": "code",
   "execution_count": null,
   "id": "d9d84215",
   "metadata": {},
   "outputs": [],
   "source": [
    "# generate interpolating weights from latlon grids of WOA18 to MOM6 tripolar grids\n",
    "\n",
    "#! pwd\n",
    "! time PYTHONPATH=../../pycommon ./gen_regridder_woa18_to_mom.py config/config.fill_woa18.yaml"
   ]
  },
  {
   "cell_type": "code",
   "execution_count": null,
   "id": "ba4f9211",
   "metadata": {},
   "outputs": [],
   "source": [
    "# flodd 12-month WOA18 latlon SSS by aggregating monthly SSS.\n",
    "# it will generate two files, one file with land unfilled, and the other with land filled.\n",
    "\n",
    "! PYTHONPATH=../../pycommon ./fill_sss_woa18_12months.py ../../test_data/woa18 \\\n",
    " --file_name_template \"woa18_decav_s{:02d}_04.nc\" \\\n",
    " --start_month 1 --end_month 12 \\\n",
    " --depth 10 \\\n",
    " --woa_var s_an \\\n",
    " --woa_var_renamed SALT \n"
   ]
  },
  {
   "cell_type": "code",
   "execution_count": null,
   "id": "c298b564",
   "metadata": {},
   "outputs": [],
   "source": [
    "# Update configurations under namelist \"remap\"\n",
    "! cat config/config.fill_woa18.yaml"
   ]
  },
  {
   "cell_type": "code",
   "execution_count": null,
   "id": "361423cb",
   "metadata": {},
   "outputs": [],
   "source": [
    "# remap flooded SSS to MOM grids\n",
    "! time PYTHONPATH=../../pycommon ./remap_sss_latlon2tripolar_woa18.py \\\n",
    "        --config_path config/config.fill_woa18.yaml \\\n",
    "        --sss_filled_path filled_sss_s01_e12.nc \\\n",
    "        --year 2015 \\\n",
    "        --remapped_file_path test_woa.nc "
   ]
  }
 ],
 "metadata": {
  "kernelspec": {
   "display_name": "Python 3 (ipykernel)",
   "language": "python",
   "name": "python3"
  },
  "language_info": {
   "codemirror_mode": {
    "name": "ipython",
    "version": 3
   },
   "file_extension": ".py",
   "mimetype": "text/x-python",
   "name": "python",
   "nbconvert_exporter": "python",
   "pygments_lexer": "ipython3",
   "version": "3.9.15"
  }
 },
 "nbformat": 4,
 "nbformat_minor": 5
}
